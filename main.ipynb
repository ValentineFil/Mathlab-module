{
 "cells": [
  {
   "cell_type": "markdown",
   "id": "593c5b8f",
   "metadata": {},
   "source": [
    "# Tutorial mathlab"
   ]
  },
  {
   "cell_type": "markdown",
   "id": "0d51feee",
   "metadata": {},
   "source": [
    "# .TS (matrix)\n",
    " - Транспонирование 1-й матрицы\n",
    " \n",
    "# .T (list_matrix)\n",
    " - Транспонирование n матриц\n",
    "\n",
    "# .det (matrix)\n",
    "- Нахождение определителя матрицы\n",
    "\n",
    "# .M (matrix1, matrix2)\n",
    " - Перемножение 2-х матриц\n",
    " \n",
    "# .MS (matrix, k)\n",
    "- Умножение матрицы на скаляр\n",
    "     - k -число, на которое надо умножить матрицу\n",
    "\n",
    "# .dot (list_matrix, n)\n",
    " - Перемножение n матриц\n",
    " \n",
    "# .multiply(list_matrix, n, k)\n",
    "- Умножение n матриц на скаляр\n",
    "\n",
    "     - k -число, на которое надо умножить матрицу\n",
    "     - n - количество матриц\n",
    "     - list_matrix - массив матриц\n",
    "    \n",
    "# .divide(list_matrix, n, k):\n",
    "- Деление матриц\n",
    "     - k -число, на которое надо разделить матрицу\n",
    "     - n - количество матриц\n",
    "     \n",
    "# .mininmum(list_matrix, number):\n",
    " - Минимальный элемент конкретной матрицы\n",
    "      - number - номер матрицы в списке\n",
    "     \n",
    "# .maximum(list_matrix, number):\n",
    " - Максимальный элемент конкретной матрицы\n",
    "      - number - номер матрицы в списке\n",
    "\n",
    "# .add(list_matrix, n)\n",
    "- Сложение матриц\n",
    "     - n - количество матриц, которые надо сложить\n",
    "\n",
    "# .subtract(list_matrix, n, number)\n",
    " - Вычитание матриц\n",
    "      - n - количество матриц, которые надо вычесть\n",
    "      - number - матрица, из которой нужно вычесть все остальные\n",
    "    \n",
    "\n",
    "# .Jacobi(A, B, accurancy)\n",
    "- нахождение СЛАУ\n",
    "        A - матрица\n",
    "        B - значения\n",
    "        accurancy - точность\n",
    "\n",
    "# .Jordan_Gauss(A, B)\n",
    "- нахождение СЛАУ\n",
    "\n",
    "# .Jordan_Gauss_proper(A, B)\n",
    "- нахождение СЛАУ\n",
    "\n"
   ]
  },
  {
   "cell_type": "code",
   "execution_count": 1,
   "id": "2878bd08",
   "metadata": {},
   "outputs": [],
   "source": [
    "import numpy as np\n",
    "import pandas as pd\n",
    "import mathlab"
   ]
  },
  {
   "cell_type": "markdown",
   "id": "04fec443",
   "metadata": {},
   "source": [
    "# Ввод 1:  руками"
   ]
  },
  {
   "cell_type": "code",
   "execution_count": 2,
   "id": "394e45aa",
   "metadata": {},
   "outputs": [],
   "source": [
    "complex_matrix = np.array([[-9 + 7j, 35, 8- 3j], [5, -4 - 1j, 20], [8, 2j, 7+ 2j]])\n",
    "l = np.array([[4,0],[2, 7], [4, 6]])\n",
    "mt = np.array([[-2, 2], [6, -6]])\n",
    "list_of_massiv = [np.array([[1j, 2], [89j, 5]]), np.array([[-8, 4+5j], [3, -3]]), np.array([[6j, 8], [44, -7+2j]])]\n",
    "m1 = np.array([[1, 2, 6], [8, 8, 2], [9, 23, 0]])\n",
    "m2 = np.array([[12, 5], [6, 8], [31, 9]])\n",
    "list_massiv2 = [np.array([[1, 23, 56, 7j],[-5, 16, 5, (39-5j)],[6j, (7+8j), 99, 23]]), \n",
    "                         np.array([[1, 4, 63, -89],[-3, 6, 4j, (5+2j)],[3, 1, 46, 91]]),\n",
    "                         np.array([[4j, (7+3j), (9-9j), 2], [9, 36, 82, 19],[-5, -8, -99, (4-7j)]])]\n",
    "                         \n"
   ]
  },
  {
   "cell_type": "code",
   "execution_count": 3,
   "id": "0af76269",
   "metadata": {},
   "outputs": [],
   "source": [
    "A = np.array([[10., -1., 2., 0.],\n",
    " [-1., 11., -1., 3.],\n",
    " [2., -1., 10., -1.],\n",
    " [0.0, 3., -1., 8.]])\n",
    "# initialize the RHS vector\n",
    "B = np.array([6., 25., -11., 15.])\n",
    "\n",
    "A = np.array([[2.6, -1.7, 2.5],\n",
    "             [1.5, 6.2, -2.9],\n",
    "             [2.8, -1.7, 3.8]])\n",
    "B = np.array([3.7, 3.2, 2.8]) "
   ]
  },
  {
   "cell_type": "markdown",
   "id": "e73fb596",
   "metadata": {},
   "source": [
    "# Ввод 2 : генерируем"
   ]
  },
  {
   "cell_type": "code",
   "execution_count": 4,
   "id": "42e203c9",
   "metadata": {},
   "outputs": [
    {
     "data": {
      "text/plain": [
       "array([[ 39.50978368, -22.62633092,  58.0215262 ],\n",
       "       [-98.67197832,   3.60704466, -95.24245952],\n",
       "       [ 87.64039108, -21.86818107, -12.36706579]])"
      ]
     },
     "execution_count": 4,
     "metadata": {},
     "output_type": "execute_result"
    }
   ],
   "source": [
    "import numpy as np\n",
    "# сгенерированная матрица\n",
    "np.random.uniform(low=-100, high=100, size=(3, 3))"
   ]
  },
  {
   "cell_type": "markdown",
   "id": "1cbd1c28",
   "metadata": {},
   "source": [
    "# Ввод 3 : для n матриц с клавиатуры (включая комплексные числа)"
   ]
  },
  {
   "cell_type": "code",
   "execution_count": null,
   "id": "c123ea47",
   "metadata": {},
   "outputs": [],
   "source": [
    "import sqlite3\n",
    "from sqlite3 import connect\n",
    "conn = connect(':memory:')"
   ]
  },
  {
   "cell_type": "code",
   "execution_count": null,
   "id": "a7af67f8",
   "metadata": {},
   "outputs": [],
   "source": [
    "def dimension():\n",
    "    s = list(map(int, input('Введи размерность: ').split()))[0]\n",
    "    r = list(map(int, input('Введи размерность: ').split()))[0]\n",
    "    return s, r"
   ]
  },
  {
   "cell_type": "code",
   "execution_count": null,
   "id": "744b71cc",
   "metadata": {},
   "outputs": [],
   "source": [
    "# считываем массив с клавиатуры\n",
    "def read_massiv(n):\n",
    "    st, rw = dimension()\n",
    "    for matrx in range(n):\n",
    "        massiv = []\n",
    "        for j in range(st):\n",
    "            string = list(map(str, input('Введи строку: ').split()))\n",
    "            massiv.append(string)\n",
    "        massiv = pd.DataFrame(np.array(massiv))\n",
    "        massiv.columns = [f'{k}' for k in range(rw)]\n",
    "        print(massiv)\n",
    "        # записываем в БД\n",
    "        massiv.to_sql(f'matrix_frame{matrx}', conn, index_label='id')\n"
   ]
  },
  {
   "cell_type": "code",
   "execution_count": null,
   "id": "2ecb7eef",
   "metadata": {},
   "outputs": [],
   "source": [
    "from copy import*\n",
    "from copy import deepcopy\n",
    "\n",
    "def remember_matrix(matrix):\n",
    "    matrix1 = deepcopy(matrix)\n",
    "    return matrix1\n",
    "\n",
    "\n",
    "def take_matrix(n):\n",
    "    # вводим размерность и матрицы\n",
    "    read_massiv(n)\n",
    "    \n",
    "    new_matrix = []\n",
    "    for k in range(n):\n",
    "       \n",
    "        small_new_matrix = []\n",
    "        conn.execute(f'SELECT  * FROM matrix_frame{k}').fetchall()\n",
    "        conn.row_factory = sqlite3.Row   \n",
    "        cursor = conn.execute(f'SELECT * FROM matrix_frame{k}')\n",
    "        for row in cursor:\n",
    "            small_new_matrix.append(row[1:])\n",
    "         \n",
    "        small_new_matrix = pd.DataFrame(small_new_matrix)\n",
    "        small_new_matrix = np.array(small_new_matrix)\n",
    "        # преобразуем str в complex\n",
    "       \n",
    "        print(f'matrix num {k+1}: {small_new_matrix}')\n",
    "        new_matrix.append(remember_matrix(small_new_matrix))\n",
    "    str_matrix = deepcopy(new_matrix)\n",
    "    \n",
    "    # str into complex\n",
    "    \n",
    "    for massiv in (new_matrix):    \n",
    "        for i in range(len(massiv)):\n",
    "            for z in range(len(massiv[0])):\n",
    "                if 'j' in massiv[i][z]:\n",
    "                    massiv[i][z] = complex(massiv[i][z])\n",
    "                else:\n",
    "                    massiv[i][z] = eval(massiv[i][z])\n",
    "                \n",
    "                \n",
    "\n",
    "    return new_matrix, str_matrix     \n",
    "\n",
    "    \n",
    "list_massiv = take_matrix(1)  \n",
    "list_massiv[1]"
   ]
  },
  {
   "cell_type": "code",
   "execution_count": null,
   "id": "0dbcee45",
   "metadata": {},
   "outputs": [],
   "source": [
    "list_massiv[0]"
   ]
  },
  {
   "cell_type": "markdown",
   "id": "d5cdb0cb",
   "metadata": {},
   "source": [
    "# Удалить таблицу к чертям"
   ]
  },
  {
   "cell_type": "code",
   "execution_count": null,
   "id": "94873271",
   "metadata": {},
   "outputs": [],
   "source": [
    "import sqlite3\n",
    "\n",
    "for i in range(n):\n",
    "    conn = sqlite3.connect(f'matrix_frame{i}')\n",
    "    c = conn.cursor()\n",
    "    # delete all rows from table \n",
    "    c.execute(f'DELETE FROM matrix_frame{i}',); \n",
    "    #commit the changes to db conn.commit() #close the connection conn.close()\n"
   ]
  },
  {
   "cell_type": "code",
   "execution_count": null,
   "id": "432f3a1b",
   "metadata": {},
   "outputs": [],
   "source": [
    "conn = sqlite3.connect(f'matrix_frame0')\n",
    "cur = conn.cursor()\n",
    "cur.execute('SELECT * FROM matrix_frame0 WHERE type = \"table\"')\n",
    "while True:\n",
    "    row = cur.fetchone()\n",
    "    print(row)\n",
    "    if row == None:\n",
    "        break"
   ]
  },
  {
   "cell_type": "markdown",
   "id": "3e8f268d",
   "metadata": {},
   "source": [
    "# Ввод 4:  для 1 матрицы с клавиатуры"
   ]
  },
  {
   "cell_type": "code",
   "execution_count": null,
   "id": "c439f6d5",
   "metadata": {},
   "outputs": [],
   "source": [
    "#вводим размерность\n",
    "try:\n",
    "    d = list(map(int, input('Введи размерность: ').split()))\n",
    "except ValueError:\n",
    "    print('введи адекватное число')\n",
    "d = d[0]"
   ]
  },
  {
   "cell_type": "code",
   "execution_count": null,
   "id": "2d02379f",
   "metadata": {},
   "outputs": [],
   "source": [
    "# считываем массив с клавиатуры\n",
    "try:\n",
    "    num = [list(map(complex, input('Введи строку: ').split())) for i in range(d)]\n",
    "except ValueError:\n",
    "     print('введи адекватное число')\n",
    "    \n",
    "    \n",
    "num = np.array(num)"
   ]
  },
  {
   "cell_type": "code",
   "execution_count": null,
   "id": "a68abb08",
   "metadata": {},
   "outputs": [],
   "source": [
    "from time import perf_counter"
   ]
  },
  {
   "cell_type": "markdown",
   "id": "d1ab704e",
   "metadata": {},
   "source": [
    "# Ввод 5. Tkinter. Запись в html, txt, csv"
   ]
  },
  {
   "cell_type": "code",
   "execution_count": null,
   "id": "39930fbb",
   "metadata": {},
   "outputs": [],
   "source": [
    "import tkinter as tk\n",
    "import sys\n",
    "from tkinter.filedialog import asksaveasfilename\n",
    "import pymysql\n",
    " \n",
    "def save_file_as():\n",
    "    filepath = asksaveasfilename(\n",
    "        defaultextension = \"txt\",\n",
    "        filetypes = [(\"Текстовые файлы\", \"*.txt\"), (\"HTML файлы\", \"*.html\"), (\"CSV файлы\", \"*.csv\")]\n",
    "        )\n",
    "    if not filepath:\n",
    "        return\n",
    "    with open(filepath, \"w\", encoding = \"UTF-8\") as output_file:\n",
    "        text = txt_edit.get(\"1.0\", tk.END)\n",
    "        output_file.write(text)\n",
    "    window.title(f\"Work with - {filepath}\")\n",
    "    \n",
    "def exit():\n",
    "    window.after(1,window.destroy)\n",
    "    sys.exit\n",
    "\n",
    " \n",
    "window = tk.Tk()\n",
    "window.title(\"Save text\")\n",
    " \n",
    "window.rowconfigure(0, minsize = 50, weight = 1)\n",
    "window.columnconfigure(1, minsize = 50, weight = 1)\n",
    " \n",
    "txt_edit = tk.Text(window)\n",
    "fr_buttons = tk.Frame(window)\n",
    "fr_buttons2 = tk.Frame(window)\n",
    "\n",
    "\n",
    "btn_save = tk.Button(fr_buttons, text = \"Save file_as\", command = save_file_as)\n",
    "btn_exit = tk.Button(fr_buttons2, text = \"Exit\", command = exit)\n",
    "\n",
    " \n",
    "btn_save.grid(row = 0, column = 0, padx = 5, pady = 5)\n",
    "btn_exit.grid(row = 0, column = 0, padx = 5, pady = 5)\n",
    "\n",
    "\n",
    "fr_buttons.grid(row = 0, column = 0, sticky = \"ne\")\n",
    "fr_buttons2.grid(row = 1, column = 0, sticky = \"ne\")\n",
    "\n",
    "\n",
    "txt_edit.grid(row = 0, column = 1)\n",
    " \n",
    "window.mainloop()"
   ]
  },
  {
   "cell_type": "markdown",
   "id": "6cf80418",
   "metadata": {},
   "source": [
    "Выделяем A, B"
   ]
  },
  {
   "cell_type": "code",
   "execution_count": 5,
   "id": "d01857d7",
   "metadata": {},
   "outputs": [],
   "source": [
    "def to_proper_fraction(massiv):\n",
    "\n",
    "    A1 = np.zeros_like(massiv)\n",
    "    for i in range(len(massiv)):\n",
    "        for j in range(len(massiv[0])):\n",
    "            if '/' in massiv[i][j]:\n",
    "                if massiv[i][j][0] == '-':\n",
    "                    left_digit = int(massiv[i][j][1:massiv[i][j].index('/')])\n",
    "                    right_digit = int(massiv[i][j][massiv[i][j].index('/')+1:])\n",
    "                    fraction = sym.Rational(left_digit, right_digit)\n",
    "                    A1[i][j] = fraction\n",
    "                else:\n",
    "                    left_digit = int(massiv[i][j][:massiv[i][j].index('/')])\n",
    "                    right_digit = int(massiv[i][j][massiv[i][j].index('/')+1:])\n",
    "                    fraction = sym.Rational(left_digit, right_digit)\n",
    "                    A1[i][j] = fraction\n",
    "            else:\n",
    "                A1[i][j] = int(massiv[i][j])\n",
    "    return A1"
   ]
  },
  {
   "cell_type": "code",
   "execution_count": 6,
   "id": "6b802678",
   "metadata": {},
   "outputs": [
    {
     "name": "stdout",
     "output_type": "stream",
     "text": [
      "     0    1    2    3\n",
      "0  2.6 -1.7  2.5  3.7\n",
      "1  1.5  6.2 -2.9  3.2\n",
      "2  2.8 -1.7  3.8  2.8\n",
      "           0          1          2\n",
      "0  1001/1000  2001/1000          4\n",
      "1  2001/1000  3998/1000  7999/1000\n"
     ]
    },
    {
     "data": {
      "text/plain": [
       "array([['1001/1000', '2001/1000'],\n",
       "       ['2001/1000', '3998/1000']], dtype=object)"
      ]
     },
     "execution_count": 6,
     "metadata": {},
     "output_type": "execute_result"
    }
   ],
   "source": [
    "import pandas as pd\n",
    "import numpy as np\n",
    "import sympy as sym\n",
    "df = pd.read_csv('matrix.csv', delimiter=' ', header = None)\n",
    "df2 = pd.read_csv('bad_matrix.csv', delimiter=' ', header = None)\n",
    "print(df)\n",
    "print(df2)\n",
    "\n",
    "\n",
    "A = df.loc[:, :len(df)-1]\n",
    "A = np.array(A)\n",
    "B = df.loc[:, len(df):len(df)]\n",
    "B = np.array(B)\n",
    "A1 = df2.loc[:, :len(df2)-1]\n",
    "A1 = np.array(A1)\n",
    "B1 = df2.loc[:, len(df2):len(df2)]\n",
    "B1 = np.array(B1)\n",
    "x = np.zeros_like(B)\n",
    "\n",
    "K = np.column_stack((A1, B1))\n",
    "C = to_proper_fraction(K)\n",
    "C = np.array(C).astype(np.float32)\n",
    "A2 = C[:, :len(C)]\n",
    "B2 = C[:, len(C):]\n",
    "\n",
    "\n",
    "A1"
   ]
  },
  {
   "cell_type": "markdown",
   "id": "a7866221",
   "metadata": {},
   "source": [
    "# Вывод"
   ]
  },
  {
   "cell_type": "code",
   "execution_count": 7,
   "id": "7cb84999",
   "metadata": {},
   "outputs": [
    {
     "data": {
      "text/plain": [
       "array([[4, 2, 4],\n",
       "       [0, 7, 6]])"
      ]
     },
     "execution_count": 7,
     "metadata": {},
     "output_type": "execute_result"
    }
   ],
   "source": [
    "mathlab.TS(l)"
   ]
  },
  {
   "cell_type": "code",
   "execution_count": 8,
   "id": "6804ea26",
   "metadata": {},
   "outputs": [
    {
     "data": {
      "text/plain": [
       "[array([[ 1.+0.j, -5.+0.j,  0.+6.j],\n",
       "        [23.+0.j, 16.+0.j,  7.+8.j],\n",
       "        [56.+0.j,  5.+0.j, 99.+0.j],\n",
       "        [ 0.+7.j, 39.-5.j, 23.+0.j]]),\n",
       " array([[  1.+0.j,  -3.+0.j,   3.+0.j],\n",
       "        [  4.+0.j,   6.+0.j,   1.+0.j],\n",
       "        [ 63.+0.j,   0.+4.j,  46.+0.j],\n",
       "        [-89.+0.j,   5.+2.j,  91.+0.j]]),\n",
       " array([[  0.+4.j,   9.+0.j,  -5.+0.j],\n",
       "        [  7.+3.j,  36.+0.j,  -8.+0.j],\n",
       "        [  9.-9.j,  82.+0.j, -99.+0.j],\n",
       "        [  2.+0.j,  19.+0.j,   4.-7.j]])]"
      ]
     },
     "execution_count": 8,
     "metadata": {},
     "output_type": "execute_result"
    }
   ],
   "source": [
    "mathlab.T(list_massiv2)"
   ]
  },
  {
   "cell_type": "code",
   "execution_count": 9,
   "id": "7eaabc44",
   "metadata": {},
   "outputs": [
    {
     "name": "stdout",
     "output_type": "stream",
     "text": [
      "[[-2  2]\n",
      " [ 6 -6]]\n",
      "Singular matrix\n"
     ]
    },
    {
     "data": {
      "text/plain": [
       "0"
      ]
     },
     "execution_count": 9,
     "metadata": {},
     "output_type": "execute_result"
    }
   ],
   "source": [
    "mathlab.det(mt)"
   ]
  },
  {
   "cell_type": "code",
   "execution_count": 10,
   "id": "b14096b3",
   "metadata": {},
   "outputs": [
    {
     "name": "stdout",
     "output_type": "stream",
     "text": [
      "[[210  75   0]\n",
      " [206 122   0]\n",
      " [246 229   0]]\n"
     ]
    }
   ],
   "source": [
    "mathlab.M(m1, m2)"
   ]
  },
  {
   "cell_type": "code",
   "execution_count": 11,
   "id": "4393e8da",
   "metadata": {},
   "outputs": [
    {
     "data": {
      "text/plain": [
       "array([[ 32,  64, 192],\n",
       "       [256, 256,  64],\n",
       "       [288, 736,   0]])"
      ]
     },
     "execution_count": 11,
     "metadata": {},
     "output_type": "execute_result"
    }
   ],
   "source": [
    "mathlab.MS(m1, 32)"
   ]
  },
  {
   "cell_type": "code",
   "execution_count": 12,
   "id": "510cf49c",
   "metadata": {},
   "outputs": [
    {
     "name": "stderr",
     "output_type": "stream",
     "text": [
      "C:\\Users\\valen\\Moduls\\mathlab.py:110: ComplexWarning: Casting complex values to real discards the imaginary part\n",
      "  matrix3[i,j] += empty_matrix_list[i, k] * list_matrix[t][k, j]\n"
     ]
    },
    {
     "data": {
      "text/plain": [
       "array([[  6,  -6],\n",
       "       [ 15, -15]])"
      ]
     },
     "execution_count": 12,
     "metadata": {},
     "output_type": "execute_result"
    }
   ],
   "source": [
    "mathlab.dot(list_of_massiv, 2)"
   ]
  },
  {
   "cell_type": "code",
   "execution_count": 13,
   "id": "d7ded59e",
   "metadata": {},
   "outputs": [
    {
     "data": {
      "text/plain": [
       "[array([[  5. +0.j, 115. +0.j, 280. +0.j,   0.+35.j],\n",
       "        [-25. +0.j,  80. +0.j,  25. +0.j, 195.-25.j],\n",
       "        [  0.+30.j,  35.+40.j, 495. +0.j, 115. +0.j]]),\n",
       " array([[   5. +0.j,   20. +0.j,  315. +0.j, -445. +0.j],\n",
       "        [ -15. +0.j,   30. +0.j,    0.+20.j,   25.+10.j],\n",
       "        [  15. +0.j,    5. +0.j,  230. +0.j,  455. +0.j]])]"
      ]
     },
     "execution_count": 13,
     "metadata": {},
     "output_type": "execute_result"
    }
   ],
   "source": [
    "mathlab.multiply(list_massiv2, 2, 5)"
   ]
  },
  {
   "cell_type": "code",
   "execution_count": 14,
   "id": "498ce3cf",
   "metadata": {},
   "outputs": [
    {
     "data": {
      "text/plain": [
       "[]"
      ]
     },
     "execution_count": 14,
     "metadata": {},
     "output_type": "execute_result"
    }
   ],
   "source": [
    "mathlab.divide(list_massiv2,0, 5)"
   ]
  },
  {
   "cell_type": "code",
   "execution_count": 15,
   "id": "3761fc7a",
   "metadata": {},
   "outputs": [
    {
     "name": "stderr",
     "output_type": "stream",
     "text": [
      "C:\\Users\\valen\\Moduls\\mathlab.py:173: ComplexWarning: Casting complex values to real discards the imaginary part\n",
      "  empty_matrix_list[i][j] +=  matrix[i][j]\n"
     ]
    },
    {
     "data": {
      "text/plain": [
       "array([[  2,  27, 119, -89],\n",
       "       [ -8,  22,   5,  44],\n",
       "       [  3,   8, 145, 114]])"
      ]
     },
     "execution_count": 15,
     "metadata": {},
     "output_type": "execute_result"
    }
   ],
   "source": [
    "mathlab.add(list_massiv2, 2)"
   ]
  },
  {
   "cell_type": "code",
   "execution_count": 16,
   "id": "c620053c",
   "metadata": {},
   "outputs": [
    {
     "data": {
      "text/plain": [
       "array([[  0.-4.j,  12.-3.j, -16.+9.j,  87.+7.j],\n",
       "       [-11.+0.j, -26.+0.j, -77.-4.j,  15.-7.j],\n",
       "       [  2.+6.j,  14.+8.j, 152.+0.j, -72.+7.j]])"
      ]
     },
     "execution_count": 16,
     "metadata": {},
     "output_type": "execute_result"
    }
   ],
   "source": [
    "mathlab.subtract(list_massiv2, 3, 0)"
   ]
  },
  {
   "cell_type": "code",
   "execution_count": 17,
   "id": "4870ae3d",
   "metadata": {},
   "outputs": [
    {
     "name": "stdout",
     "output_type": "stream",
     "text": [
      "9223372036854775807\n"
     ]
    },
    {
     "data": {
      "text/plain": [
       "(-77-4j)"
      ]
     },
     "execution_count": 17,
     "metadata": {},
     "output_type": "execute_result"
    }
   ],
   "source": [
    "mathlab.mininmum(list_massiv2, 0)"
   ]
  },
  {
   "cell_type": "code",
   "execution_count": 18,
   "id": "6344581e",
   "metadata": {},
   "outputs": [
    {
     "data": {
      "text/plain": [
       "(91+0j)"
      ]
     },
     "execution_count": 18,
     "metadata": {},
     "output_type": "execute_result"
    }
   ],
   "source": [
    "mathlab.maximum(list_massiv2, 1)"
   ]
  },
  {
   "cell_type": "markdown",
   "id": "99ff08aa",
   "metadata": {},
   "source": [
    "# Jacobi"
   ]
  },
  {
   "cell_type": "code",
   "execution_count": 19,
   "id": "3511cd7a",
   "metadata": {},
   "outputs": [
    {
     "name": "stdout",
     "output_type": "stream",
     "text": [
      "Matrix:\n",
      "1.0010000467300415*x1 + 2.000999927520752*x2 = [4.]\n",
      "2.000999927520752*x1 + 3.997999906539917*x2 = [7.999]\n",
      "матрица плохо обусловлена 0.0\n"
     ]
    },
    {
     "data": {
      "text/plain": [
       "(' норма матрицы: 4.999400540677136',\n",
       " ' норма обратной матрицы: 0.0, решение:',\n",
       " array([[-1.986687  ],\n",
       "        [ 0.42571327]], dtype=float32),\n",
       " array([[-0.,  0.],\n",
       "        [ 0., -0.]], dtype=float32),\n",
       " False)"
      ]
     },
     "execution_count": 19,
     "metadata": {},
     "output_type": "execute_result"
    }
   ],
   "source": [
    "mathlab.Jacobi(A2, B2, 0.001)"
   ]
  },
  {
   "cell_type": "markdown",
   "id": "6e3ea67f",
   "metadata": {},
   "source": [
    "# Jordan_Gauss"
   ]
  },
  {
   "cell_type": "code",
   "execution_count": 20,
   "id": "ffa97ca5",
   "metadata": {},
   "outputs": [
    {
     "name": "stdout",
     "output_type": "stream",
     "text": [
      "Matrix:\n",
      "1.0010000467300415*x1 + 2.000999927520752*x2 = [4.]\n",
      "2.000999927520752*x1 + 3.997999906539917*x2 = [7.999]\n",
      "матрица плохо обусловлена 26963.220703125\n"
     ]
    },
    {
     "data": {
      "text/plain": [
       "(array([[ 6.990098 ],\n",
       "        [-1.4977952]], dtype=float32),\n",
       " ' норма матрицы 4.999400540677136',\n",
       " ' норма обратной матрицы 2496.4341045951387',\n",
       " False)"
      ]
     },
     "execution_count": 20,
     "metadata": {},
     "output_type": "execute_result"
    }
   ],
   "source": [
    "mathlab.Jordan_Gauss(A2, B2)"
   ]
  },
  {
   "cell_type": "code",
   "execution_count": 21,
   "id": "6f754362",
   "metadata": {},
   "outputs": [
    {
     "name": "stdout",
     "output_type": "stream",
     "text": [
      "Matrix:\n",
      "1001/1000*x1 + 2001/1000*x2 = ['4']\n",
      "2001/1000*x1 + 1999/500*x2 = ['7999/1000']\n",
      "матрица плохо обусловлена 7599402017985157316695339/281897189175721984000\n"
     ]
    },
    {
     "data": {
      "text/plain": [
       "(array([[13999/2003],\n",
       "        [-2999/2003]], dtype=object),\n",
       " ' норма матрицы 4.99940066407965',\n",
       " 'обратная норма 2495.95639744366')"
      ]
     },
     "execution_count": 21,
     "metadata": {},
     "output_type": "execute_result"
    }
   ],
   "source": [
    "mathlab.Jordan_Gauss_proper(A1, B1)"
   ]
  },
  {
   "cell_type": "markdown",
   "id": "3e28b635",
   "metadata": {},
   "source": [
    "# Полная программа для вывода подходящей матрицы"
   ]
  },
  {
   "cell_type": "code",
   "execution_count": 22,
   "id": "85953d68",
   "metadata": {},
   "outputs": [
    {
     "name": "stdout",
     "output_type": "stream",
     "text": [
      "Matrix:\n",
      "1.0010000467300415*x1 + 2.000999927520752*x2 = [4.]\n",
      "2.000999927520752*x1 + 3.997999906539917*x2 = [7.999]\n",
      "матрица плохо обусловлена 0.0\n",
      "Matrix:\n",
      "1.0010000467300415*x1 + 2.000999927520752*x2 = [4.]\n",
      "2.000999927520752*x1 + 3.997999906539917*x2 = [7.999]\n",
      "матрица плохо обусловлена 26963.220703125\n",
      "Matrix:\n",
      "1.0010000467300415*x1 + 2.000999927520752*x2 = [4.]\n",
      "2.000999927520752*x1 + 3.997999906539917*x2 = [7.999]\n",
      "матрица плохо обусловлена 26963.220703125\n"
     ]
    },
    {
     "ename": "IndexError",
     "evalue": "tuple index out of range",
     "output_type": "error",
     "traceback": [
      "\u001b[1;31m---------------------------------------------------------------------------\u001b[0m",
      "\u001b[1;31mIndexError\u001b[0m                                Traceback (most recent call last)",
      "\u001b[1;32m<ipython-input-22-eb31648e983b>\u001b[0m in \u001b[0;36m<module>\u001b[1;34m\u001b[0m\n\u001b[0;32m      9\u001b[0m     \u001b[1;32melse\u001b[0m\u001b[1;33m:\u001b[0m\u001b[1;33m\u001b[0m\u001b[1;33m\u001b[0m\u001b[0m\n\u001b[0;32m     10\u001b[0m         \u001b[1;32mreturn\u001b[0m \u001b[0mmathlab\u001b[0m\u001b[1;33m.\u001b[0m\u001b[0mJacobi\u001b[0m\u001b[1;33m(\u001b[0m\u001b[0mA2\u001b[0m\u001b[1;33m,\u001b[0m \u001b[0mB2\u001b[0m\u001b[1;33m,\u001b[0m \u001b[1;36m0.001\u001b[0m\u001b[1;33m)\u001b[0m\u001b[1;33m\u001b[0m\u001b[1;33m\u001b[0m\u001b[0m\n\u001b[1;32m---> 11\u001b[1;33m \u001b[0mres\u001b[0m\u001b[1;33m(\u001b[0m\u001b[1;33m)\u001b[0m\u001b[1;33m\u001b[0m\u001b[1;33m\u001b[0m\u001b[0m\n\u001b[0m",
      "\u001b[1;32m<ipython-input-22-eb31648e983b>\u001b[0m in \u001b[0;36mres\u001b[1;34m()\u001b[0m\n\u001b[0;32m      2\u001b[0m     \u001b[1;32mif\u001b[0m \u001b[1;32mnot\u001b[0m \u001b[0mmathlab\u001b[0m\u001b[1;33m.\u001b[0m\u001b[0mJacobi\u001b[0m\u001b[1;33m(\u001b[0m\u001b[0mA2\u001b[0m\u001b[1;33m,\u001b[0m \u001b[0mB2\u001b[0m\u001b[1;33m,\u001b[0m \u001b[1;36m0.001\u001b[0m\u001b[1;33m)\u001b[0m\u001b[1;33m[\u001b[0m\u001b[1;36m4\u001b[0m\u001b[1;33m]\u001b[0m\u001b[1;33m:\u001b[0m\u001b[1;33m\u001b[0m\u001b[1;33m\u001b[0m\u001b[0m\n\u001b[0;32m      3\u001b[0m         \u001b[0mresult\u001b[0m \u001b[1;33m=\u001b[0m \u001b[0mmathlab\u001b[0m\u001b[1;33m.\u001b[0m\u001b[0mJordan_Gauss\u001b[0m\u001b[1;33m(\u001b[0m\u001b[0mA2\u001b[0m\u001b[1;33m,\u001b[0m \u001b[0mB2\u001b[0m\u001b[1;33m)\u001b[0m\u001b[1;33m\u001b[0m\u001b[1;33m\u001b[0m\u001b[0m\n\u001b[1;32m----> 4\u001b[1;33m         \u001b[1;32mif\u001b[0m \u001b[1;32mnot\u001b[0m \u001b[0mmathlab\u001b[0m\u001b[1;33m.\u001b[0m\u001b[0mJordan_Gauss\u001b[0m\u001b[1;33m(\u001b[0m\u001b[0mA2\u001b[0m\u001b[1;33m,\u001b[0m \u001b[0mB2\u001b[0m\u001b[1;33m)\u001b[0m\u001b[1;33m[\u001b[0m\u001b[1;36m4\u001b[0m\u001b[1;33m]\u001b[0m\u001b[1;33m:\u001b[0m\u001b[1;33m\u001b[0m\u001b[1;33m\u001b[0m\u001b[0m\n\u001b[0m\u001b[0;32m      5\u001b[0m             \u001b[0mresult\u001b[0m \u001b[1;33m=\u001b[0m \u001b[0mmathlab\u001b[0m\u001b[1;33m.\u001b[0m\u001b[0mJordan_Gauss_proper\u001b[0m\u001b[1;33m(\u001b[0m\u001b[0mA1\u001b[0m\u001b[1;33m,\u001b[0m \u001b[0mB1\u001b[0m\u001b[1;33m)\u001b[0m\u001b[1;33m\u001b[0m\u001b[1;33m\u001b[0m\u001b[0m\n\u001b[0;32m      6\u001b[0m             \u001b[1;32mreturn\u001b[0m \u001b[0mresult\u001b[0m\u001b[1;33m\u001b[0m\u001b[1;33m\u001b[0m\u001b[0m\n",
      "\u001b[1;31mIndexError\u001b[0m: tuple index out of range"
     ]
    }
   ],
   "source": [
    "def res():\n",
    "    if not mathlab.Jacobi(A2, B2, 0.001)[4]:\n",
    "        result = mathlab.Jordan_Gauss(A2, B2)\n",
    "        if not mathlab.Jordan_Gauss(A2, B2)[4]:\n",
    "            result = mathlab.Jordan_Gauss_proper(A1, B1)\n",
    "            return result\n",
    "        else:\n",
    "            return result\n",
    "    else:\n",
    "        return mathlab.Jacobi(A2, B2, 0.001)\n",
    "res()    "
   ]
  },
  {
   "cell_type": "code",
   "execution_count": null,
   "id": "513c0a27",
   "metadata": {},
   "outputs": [],
   "source": [
    "# print matrix\n",
    "print(\"Matrix:\" )\n",
    "for i in range(A1.shape[0]):\n",
    "    row = [\"{}*x{}\" .format(A1[i, j], j + 1) for j in range(A1.shape[1])]\n",
    "    print(\" + \".join(row), \"=\", B1[i])\n",
    "print()"
   ]
  },
  {
   "cell_type": "code",
   "execution_count": null,
   "id": "98144721",
   "metadata": {
    "scrolled": true
   },
   "outputs": [],
   "source": [
    "from flask import Flask, render_template\n",
    "\n",
    "app = Flask(__name__)\n",
    "\n",
    "@app.route('/jacobi')\n",
    "def index1():\n",
    "    return f' СЛАУ методом Якоби: {mathlab.Jacobi(A, B, 0.001)}'\n",
    "\n",
    "@app.route('/gauss')\n",
    "def index2():\n",
    "    return f' СЛАУ методом Жордана-Гаусса: {mathlab.Jordan_Gauss(A, B)}'\n",
    "\n",
    "#@app.route('/care/')\n",
    "#def index3():\n",
    "    #name, age, profession = \"Jerry\", 24, 'Programmer'\n",
    "    #template_context = dict(name=name, age=age, profession=profession)\n",
    "    #return render_template('index.html', **template_context)\n",
    "\n",
    "\n",
    "\n",
    "if __name__ == \"__main__\":\n",
    "    app.run()"
   ]
  },
  {
   "cell_type": "markdown",
   "id": "e79393b6",
   "metadata": {},
   "source": [
    "# Сравниваем время"
   ]
  },
  {
   "cell_type": "markdown",
   "id": "47064e85",
   "metadata": {},
   "source": [
    " - Транспонирование"
   ]
  },
  {
   "cell_type": "code",
   "execution_count": null,
   "id": "c8744531",
   "metadata": {},
   "outputs": [],
   "source": [
    "st = perf_counter()\n",
    "mathlab.T(list_massiv2)\n",
    "en = perf_counter()\n",
    "print(f'время выполнения {en-st}')"
   ]
  },
  {
   "cell_type": "code",
   "execution_count": null,
   "id": "3862483a",
   "metadata": {},
   "outputs": [],
   "source": [
    "st = perf_counter()\n",
    "import numpy as np\n",
    "for l in list_massiv2:\n",
    "    np.transpose(l)\n",
    "en = perf_counter()\n",
    "print(f'время выполнения {en-st}')"
   ]
  },
  {
   "cell_type": "markdown",
   "id": "fb2cc228",
   "metadata": {},
   "source": [
    "Транспонирование: +- одинаковое время \n",
    "\n",
    "время выполнения 0.0003105999999206688\n",
    "\n",
    "время выполнения 0.0003027999996447761"
   ]
  },
  {
   "cell_type": "markdown",
   "id": "e36e8a86",
   "metadata": {},
   "source": [
    " - Определитель"
   ]
  },
  {
   "cell_type": "code",
   "execution_count": null,
   "id": "cdd3c690",
   "metadata": {
    "scrolled": true
   },
   "outputs": [],
   "source": [
    "st = perf_counter()\n",
    "mathlab.det(mt)\n",
    "en = perf_counter()\n",
    "print(f'время выполнения {en-st}')"
   ]
  },
  {
   "cell_type": "code",
   "execution_count": null,
   "id": "37d503d8",
   "metadata": {},
   "outputs": [],
   "source": [
    "st = perf_counter()\n",
    "for mt in list_of_massiv:\n",
    "    np.linalg.det(mt)\n",
    "en = perf_counter()\n",
    "print(f'время выполнения {en-st}')"
   ]
  },
  {
   "cell_type": "markdown",
   "id": "c906417c",
   "metadata": {},
   "source": [
    "Определитель\n",
    "\n",
    "время выполнения 0.009651500000018132\n",
    "\n",
    "время выполнения 0.007707700000082696\n"
   ]
  },
  {
   "cell_type": "markdown",
   "id": "680bb79d",
   "metadata": {},
   "source": [
    " - Перемножение матриц"
   ]
  },
  {
   "cell_type": "code",
   "execution_count": null,
   "id": "b617ca01",
   "metadata": {},
   "outputs": [],
   "source": [
    "st = perf_counter()\n",
    "mathlab.M(m1, m2)\n",
    "en = perf_counter()\n",
    "print(f'время выполнения {en-st}')"
   ]
  },
  {
   "cell_type": "code",
   "execution_count": null,
   "id": "cca20fde",
   "metadata": {},
   "outputs": [],
   "source": [
    "import numpy as np\n",
    "st = perf_counter()\n",
    "m1.dot(m2)\n",
    "en = perf_counter()\n",
    "print(f'время выполнения {en-st}')"
   ]
  },
  {
   "cell_type": "markdown",
   "id": "6f492841",
   "metadata": {},
   "source": [
    "Перемножение матриц\n",
    "\n",
    "время выполнения 0.0008072999999058084\n",
    "\n",
    "время выполнения 0.00029219999987617484"
   ]
  },
  {
   "cell_type": "markdown",
   "id": "6d05c049",
   "metadata": {},
   "source": [
    " - Деление на число"
   ]
  },
  {
   "cell_type": "code",
   "execution_count": null,
   "id": "436c5999",
   "metadata": {},
   "outputs": [],
   "source": [
    "st = perf_counter()\n",
    "mathlab.divide(list_massiv2, 6, 5)\n",
    "en = perf_counter()\n",
    "print(f'время выполнения {en-st}')"
   ]
  },
  {
   "cell_type": "code",
   "execution_count": null,
   "id": "74d9cf4a",
   "metadata": {},
   "outputs": [],
   "source": [
    "st = perf_counter()\n",
    "for l in list_massiv2:\n",
    "    l/5\n",
    "en = perf_counter()\n",
    "print(f'время выполнения {en-st}')"
   ]
  },
  {
   "cell_type": "markdown",
   "id": "a7cde432",
   "metadata": {},
   "source": [
    "Деление на число\n",
    "\n",
    "время выполнения 0.0007197000004453002\n",
    "\n",
    "время выполнения 0.0061477999997805455"
   ]
  },
  {
   "cell_type": "markdown",
   "id": "f1d2b95f",
   "metadata": {},
   "source": [
    " - Сложение матриц"
   ]
  },
  {
   "cell_type": "code",
   "execution_count": null,
   "id": "5b2262e8",
   "metadata": {},
   "outputs": [],
   "source": [
    "st = perf_counter()\n",
    "mathlab.add(list_massiv2, 3)\n",
    "en = perf_counter()\n",
    "print(f'время выполнения {en-st}')"
   ]
  },
  {
   "cell_type": "code",
   "execution_count": null,
   "id": "1f4a04a6",
   "metadata": {},
   "outputs": [],
   "source": [
    "st = perf_counter()\n",
    "np3 = np.add(list_massiv2[0], list_massiv2[1])\n",
    "np.add(np3, list_massiv2[2])\n",
    "en = perf_counter()\n",
    "print(f'время выполнения {en-st}')"
   ]
  },
  {
   "cell_type": "markdown",
   "id": "fc5388f7",
   "metadata": {},
   "source": [
    "время выполнения 0.0007356000005529495\n",
    "\n",
    "время выполнения 0.00030620000052294927"
   ]
  },
  {
   "cell_type": "markdown",
   "id": "78bdbd7e",
   "metadata": {},
   "source": [
    " - Максимум"
   ]
  },
  {
   "cell_type": "code",
   "execution_count": null,
   "id": "adf4a8f5",
   "metadata": {},
   "outputs": [],
   "source": [
    "st = perf_counter()\n",
    "mathlab.maximum(list_massiv2, 1)\n",
    "mathlab.maximum(list_massiv2, 0)\n",
    "en = perf_counter()\n",
    "print(f'время выполнения {en-st}')"
   ]
  },
  {
   "cell_type": "code",
   "execution_count": null,
   "id": "63ba99a7",
   "metadata": {},
   "outputs": [],
   "source": [
    "st = perf_counter()\n",
    "np.maximum(list_massiv2[0], list_massiv2[1])\n",
    "en = perf_counter()\n",
    "print(f'время выполнения {en-st}')"
   ]
  },
  {
   "cell_type": "markdown",
   "id": "994b9644",
   "metadata": {},
   "source": [
    "время выполнения 0.0004198000005999347\n",
    "\n",
    "время выполнения 0.00021770000057586003"
   ]
  },
  {
   "cell_type": "code",
   "execution_count": null,
   "id": "877eaa92",
   "metadata": {},
   "outputs": [],
   "source": []
  }
 ],
 "metadata": {
  "kernelspec": {
   "display_name": "Python 3",
   "language": "python",
   "name": "python3"
  },
  "language_info": {
   "codemirror_mode": {
    "name": "ipython",
    "version": 3
   },
   "file_extension": ".py",
   "mimetype": "text/x-python",
   "name": "python",
   "nbconvert_exporter": "python",
   "pygments_lexer": "ipython3",
   "version": "3.8.8"
  }
 },
 "nbformat": 4,
 "nbformat_minor": 5
}
